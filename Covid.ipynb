{
 "cells": [
  {
   "cell_type": "markdown",
   "id": "d6d6e9fe",
   "metadata": {},
   "source": [
    "#Para comenzar hacemos los Import necesarios con los paquetes que utilizaremos en el Ejercicio."
   ]
  },
  {
   "cell_type": "code",
   "execution_count": 2,
   "id": "68ad43aa",
   "metadata": {},
   "outputs": [],
   "source": [
    "import pandas as pd \n",
    "from sklearn.tree import DecisionTreeClassifier\n",
    "from sklearn.model_selection import train_test_split"
   ]
  },
  {
   "cell_type": "markdown",
   "id": "c660d00e",
   "metadata": {},
   "source": [
    "#Cargamos el conjunto de datos"
   ]
  },
  {
   "cell_type": "code",
   "execution_count": 3,
   "id": "7612efbe",
   "metadata": {},
   "outputs": [],
   "source": [
    "df = pd.read_csv(\"covid.csv\")\n"
   ]
  },
  {
   "cell_type": "markdown",
   "id": "135ce893",
   "metadata": {},
   "source": [
    "#Podemos eliminar las filas que contienen valores faltantes"
   ]
  },
  {
   "cell_type": "code",
   "execution_count": 4,
   "id": "e739dee5",
   "metadata": {},
   "outputs": [],
   "source": [
    "df.dropna(inplace=True)"
   ]
  },
  {
   "cell_type": "markdown",
   "id": "f27ccc04",
   "metadata": {},
   "source": [
    "#Podemos ver las primeras filas del conjunto de datos con la función head()"
   ]
  },
  {
   "cell_type": "code",
   "execution_count": 5,
   "id": "b2553835",
   "metadata": {
    "scrolled": true
   },
   "outputs": [
    {
     "data": {
      "text/html": [
       "<div>\n",
       "<style scoped>\n",
       "    .dataframe tbody tr th:only-of-type {\n",
       "        vertical-align: middle;\n",
       "    }\n",
       "\n",
       "    .dataframe tbody tr th {\n",
       "        vertical-align: top;\n",
       "    }\n",
       "\n",
       "    .dataframe thead th {\n",
       "        text-align: right;\n",
       "    }\n",
       "</style>\n",
       "<table border=\"1\" class=\"dataframe\">\n",
       "  <thead>\n",
       "    <tr style=\"text-align: right;\">\n",
       "      <th></th>\n",
       "      <th>date</th>\n",
       "      <th>country</th>\n",
       "      <th>new_cases</th>\n",
       "      <th>new_deaths</th>\n",
       "      <th>total_cases</th>\n",
       "      <th>total_deaths</th>\n",
       "    </tr>\n",
       "  </thead>\n",
       "  <tbody>\n",
       "    <tr>\n",
       "      <th>0</th>\n",
       "      <td>2019-12-31</td>\n",
       "      <td>Afghanistan</td>\n",
       "      <td>0</td>\n",
       "      <td>0</td>\n",
       "      <td>0</td>\n",
       "      <td>0</td>\n",
       "    </tr>\n",
       "    <tr>\n",
       "      <th>1</th>\n",
       "      <td>2020-01-01</td>\n",
       "      <td>Afghanistan</td>\n",
       "      <td>0</td>\n",
       "      <td>0</td>\n",
       "      <td>0</td>\n",
       "      <td>0</td>\n",
       "    </tr>\n",
       "    <tr>\n",
       "      <th>2</th>\n",
       "      <td>2020-01-02</td>\n",
       "      <td>Afghanistan</td>\n",
       "      <td>0</td>\n",
       "      <td>0</td>\n",
       "      <td>0</td>\n",
       "      <td>0</td>\n",
       "    </tr>\n",
       "    <tr>\n",
       "      <th>3</th>\n",
       "      <td>2020-01-03</td>\n",
       "      <td>Afghanistan</td>\n",
       "      <td>0</td>\n",
       "      <td>0</td>\n",
       "      <td>0</td>\n",
       "      <td>0</td>\n",
       "    </tr>\n",
       "    <tr>\n",
       "      <th>4</th>\n",
       "      <td>2020-01-04</td>\n",
       "      <td>Afghanistan</td>\n",
       "      <td>0</td>\n",
       "      <td>0</td>\n",
       "      <td>0</td>\n",
       "      <td>0</td>\n",
       "    </tr>\n",
       "  </tbody>\n",
       "</table>\n",
       "</div>"
      ],
      "text/plain": [
       "         date      country  new_cases  new_deaths  total_cases  total_deaths\n",
       "0  2019-12-31  Afghanistan          0           0            0             0\n",
       "1  2020-01-01  Afghanistan          0           0            0             0\n",
       "2  2020-01-02  Afghanistan          0           0            0             0\n",
       "3  2020-01-03  Afghanistan          0           0            0             0\n",
       "4  2020-01-04  Afghanistan          0           0            0             0"
      ]
     },
     "execution_count": 5,
     "metadata": {},
     "output_type": "execute_result"
    }
   ],
   "source": [
    "df.head()"
   ]
  },
  {
   "cell_type": "markdown",
   "id": "fec6c403",
   "metadata": {},
   "source": [
    "#Obtenemos información sobre las columnas y los tipos de datos"
   ]
  },
  {
   "cell_type": "code",
   "execution_count": 6,
   "id": "11946e9f",
   "metadata": {},
   "outputs": [
    {
     "name": "stdout",
     "output_type": "stream",
     "text": [
      "<class 'pandas.core.frame.DataFrame'>\n",
      "RangeIndex: 7320 entries, 0 to 7319\n",
      "Data columns (total 6 columns):\n",
      " #   Column        Non-Null Count  Dtype \n",
      "---  ------        --------------  ----- \n",
      " 0   date          7320 non-null   object\n",
      " 1   country       7320 non-null   object\n",
      " 2   new_cases     7320 non-null   int64 \n",
      " 3   new_deaths    7320 non-null   int64 \n",
      " 4   total_cases   7320 non-null   int64 \n",
      " 5   total_deaths  7320 non-null   int64 \n",
      "dtypes: int64(4), object(2)\n",
      "memory usage: 343.2+ KB\n"
     ]
    }
   ],
   "source": [
    "df.info()"
   ]
  },
  {
   "cell_type": "markdown",
   "id": "e1a0bb1d",
   "metadata": {},
   "source": [
    "#Seleccionamos las columnas de caracteristicas y la columna de etiquetas"
   ]
  },
  {
   "cell_type": "code",
   "execution_count": 7,
   "id": "92645585",
   "metadata": {},
   "outputs": [],
   "source": [
    "X=df.iloc[:, :-1]\n",
    "y=df.iloc[:, -1]"
   ]
  },
  {
   "cell_type": "markdown",
   "id": "96da2f87",
   "metadata": {},
   "source": [
    "#convertimos variables categóricas en variables numéricas"
   ]
  },
  {
   "cell_type": "code",
   "execution_count": 8,
   "id": "20b948ab",
   "metadata": {},
   "outputs": [],
   "source": [
    "X=pd.get_dummies(X)"
   ]
  },
  {
   "cell_type": "markdown",
   "id": "3103fbbb",
   "metadata": {},
   "source": [
    "#Dividimos el conjunto de datos en conjuntos de entrenamiento y prueba"
   ]
  },
  {
   "cell_type": "code",
   "execution_count": 9,
   "id": "3bee89a9",
   "metadata": {},
   "outputs": [],
   "source": [
    "X_train, X_test, y_train, y_test = train_test_split(X, y, test_size=0.2, random_state=42)"
   ]
  },
  {
   "cell_type": "markdown",
   "id": "95d89036",
   "metadata": {},
   "source": [
    "#Creamos un modelo de árbol de decisión "
   ]
  },
  {
   "cell_type": "code",
   "execution_count": 10,
   "id": "7c98be2a",
   "metadata": {},
   "outputs": [
    {
     "data": {
      "text/plain": [
       "DecisionTreeClassifier()"
      ]
     },
     "execution_count": 10,
     "metadata": {},
     "output_type": "execute_result"
    }
   ],
   "source": [
    "clf = DecisionTreeClassifier()\n",
    "clf.fit(X_train, y_train)"
   ]
  },
  {
   "cell_type": "markdown",
   "id": "4a704dc3",
   "metadata": {},
   "source": [
    "#Evaluamos el modelo "
   ]
  },
  {
   "cell_type": "code",
   "execution_count": 14,
   "id": "23aa0bec",
   "metadata": {},
   "outputs": [
    {
     "name": "stdout",
     "output_type": "stream",
     "text": [
      "Acurracy: 86.61%\n"
     ]
    }
   ],
   "source": [
    "score = clf.score(X_test, y_test)\n",
    "print(\"Acurracy: %.2f%%\" % (score * 100.0))"
   ]
  },
  {
   "cell_type": "code",
   "execution_count": null,
   "id": "4858d5c8",
   "metadata": {},
   "outputs": [],
   "source": []
  }
 ],
 "metadata": {
  "kernelspec": {
   "display_name": "Python 3 (ipykernel)",
   "language": "python",
   "name": "python3"
  },
  "language_info": {
   "codemirror_mode": {
    "name": "ipython",
    "version": 3
   },
   "file_extension": ".py",
   "mimetype": "text/x-python",
   "name": "python",
   "nbconvert_exporter": "python",
   "pygments_lexer": "ipython3",
   "version": "3.9.13"
  }
 },
 "nbformat": 4,
 "nbformat_minor": 5
}
